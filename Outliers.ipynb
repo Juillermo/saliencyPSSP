{
 "cells": [
  {
   "cell_type": "code",
   "execution_count": 14,
   "metadata": {
    "collapsed": true
   },
   "outputs": [],
   "source": [
    "import pickle\n",
    "import matplotlib.pyplot as plt\n",
    "import numpy as np\n",
    "import pandas as pd\n",
    "%matplotlib inline\n",
    "\n",
    "from test_saliency.utils import decode, aaMap_jurtz, convertPredictQ8Result2HumanReadable"
   ]
  },
  {
   "cell_type": "markdown",
   "metadata": {},
   "source": [
    "### Loading data"
   ]
  },
  {
   "cell_type": "code",
   "execution_count": 15,
   "metadata": {
    "collapsed": true
   },
   "outputs": [
    {
     "name": "stdout",
     "output_type": "stream",
     "text": [
      "Train path is downloaded ...\n",
      "Loading train data ...\n",
      "Loading splits ...\n",
      "Loading test data ...\n",
      "(5248, 700, 42) (256, 700, 42) (514, 700, 42)\n",
      "5504\n",
      "(6018, 700, 42)\n"
     ]
    }
   ],
   "source": [
    "from secondary_proteins_prediction import data\n",
    "\n",
    "TRAIN_PATH = 'secondary_proteins_prediction/data/cullpdb+profile_6133_filtered.npy.gz'\n",
    "TEST_PATH = 'secondary_proteins_prediction/data/cb513+profile_split1.npy.gz'\n",
    "\n",
    "X_train, X_valid, labels_train, labels_valid, mask_train, mask_valid, _ = data.get_train(TRAIN_PATH)\n",
    "X_test, mask_test, labels_test, _ = data.get_test(TEST_PATH)\n",
    "print X_train[:-30].shape, X_valid.shape, X_test[:-126].shape\n",
    "split_value = len(X_train[:-30]) + len(X_valid)\n",
    "print split_value\n",
    "\n",
    "X = np.concatenate((X_train[:-30],X_valid, X_test[:-126]))\n",
    "labels = np.concatenate((labels_train[:-30],labels_valid, labels_test[:-126]))\n",
    "mask = np.concatenate((mask_train[:-30],mask_valid, mask_test[:-126]))\n",
    "print X.shape"
   ]
  },
  {
   "cell_type": "code",
   "execution_count": 28,
   "metadata": {
    "collapsed": true
   },
   "outputs": [
    {
     "name": "stdout",
     "output_type": "stream",
     "text": [
      "train_val (5504, 700, 8)\n",
      "test (514, 700, 8)\n",
      "total (6018, 700, 8)\n"
     ]
    }
   ],
   "source": [
    "predictions_path = \"secondary_proteins_prediction/predictions/predictions_train_valid_pureConv-20180804-010835-47.npy\"\n",
    "predictions = np.load(predictions_path)\n",
    "print \"train_val\", predictions.shape\n",
    "\n",
    "predictions_path = \"secondary_proteins_prediction/predictions/predictionstest_pureConv-20180804-010835-47.npy\"\n",
    "predictions2 = np.load(predictions_path)\n",
    "print \"test\", predictions2[:-126].shape\n",
    "\n",
    "predictions = np.concatenate((predictions, predictions2[:-126]))\n",
    "print \"total\", predictions.shape\n",
    "\n",
    "lengths_train = np.sum(mask[:split_value], axis=1)\n",
    "lengths_test = np.sum(mask[split_value:], axis=1)"
   ]
  },
  {
   "cell_type": "code",
   "execution_count": 172,
   "metadata": {
    "collapsed": false
   },
   "outputs": [
    {
     "name": "stdout",
     "output_type": "stream",
     "text": [
      "122 QVEISXAEWDVXNIIWDKKSVSANEIVVEIQKYKEVSDKTIRTLITRLYKKEIIKRYKSENIYFYSSNIKEDDIKXKTAKTFLNKLYGGDXKSLVLNFAKNEELNNKEIEELRDILNDISKK\n",
      "('Allelujah!!', 'MTNKQVEISMAEWDVMNIIWDKKSVSANEIVVEIQKYKEVSDKTIRTLITRLYKKEIIKRYKSENIYFYSSNIKEDDIKMKTAKTFLNKLYGGDMKSLVLNFAKNEELNNKEIEELRDILNDISKK')\n",
      ">1SD4A C4E672CF5FA718E7 126 XRAY  2.000  0.210  0.237 no Penicillinase repressor <BLAI_STAAU(1-126)> [Staphylococcus aureus]\n",
      "KXKTAKTFLNKLYGGDXKSLVLNFAK\n",
      "KMKTAKTFLNKLYGGDMKSLVLNFAK\n"
     ]
    },
    {
     "data": {
      "image/png": "[encoded data removed]",
      "text/plain": [
       "<matplotlib.figure.Figure at 0x7f566de9d290>"
      ]
     },
     "metadata": {},
     "output_type": "display_data"
    }
   ],
   "source": [
    "seq = 4\n",
    "\n",
    "end_seq = int(sum(mask[seq]))\n",
    "af = decode(X[seq,:end_seq,:21], aaMap_jurtz)\n",
    "print end_seq, af\n",
    "\n",
    "preds = convertPredictQ8Result2HumanReadable( predictions[seq] )\n",
    "#print preds[:end_seq]\n",
    "\n",
    "sss = pd.Series([el for el in preds[:end_seq]])\n",
    "#print sss.value_counts()\n",
    "\n",
    "a = []\n",
    "q = 'FDYQTVYFANQYGLRTIELGESEFVDNTLDNQHKXVIKAAWGGGYT'\n",
    "cut = 105\n",
    "with open('test_saliency/pdbaa','r') as f:\n",
    "    for a_line in f:\n",
    "        a.append(a_line[:-1])\n",
    "        if a_line == \"\\n\":\n",
    "            ala = \"\".join(a[1:])\n",
    "            if ala[8:cut] in af and len(ala)>=cut or '>1SD4' in a[0]:\n",
    "                print(\"Allelujah!!\", ala)\n",
    "                print a[0]\n",
    "                step = 4\n",
    "                plt.plot([af[i] == ala[i+step] for i in range(len(ala)-step)])\n",
    "                print af[74:100]\n",
    "                print ala[74+step:100+step]\n",
    "                break\n",
    "            a = []"
   ]
  },
  {
   "cell_type": "code",
   "execution_count": 163,
   "metadata": {
    "collapsed": false
   },
   "outputs": [
    {
     "name": "stdout",
     "output_type": "stream",
     "text": [
      "4696\n"
     ]
    }
   ],
   "source": [
    "hits = 0\n",
    "for seq in range(len(X)):\n",
    "    end_seq = int(sum(mask[seq]))\n",
    "    af = decode(X[seq,:end_seq,:21], aaMap_jurtz)\n",
    "    with open('test_saliency/pdbaa','r') as f:\n",
    "        a = []\n",
    "        for a_line in f:\n",
    "            a.append(a_line[:-1])\n",
    "            if a_line == \"\\n\":\n",
    "                ala = \"\".join(a[1:])\n",
    "                if af in ala:\n",
    "                    hits += 1\n",
    "                    #print a[0]\n",
    "                    break\n",
    "                a = []\n",
    "print hits"
   ]
  },
  {
   "cell_type": "code",
   "execution_count": 138,
   "metadata": {
    "collapsed": true
   },
   "outputs": [
    {
     "ename": "KeyError",
     "evalue": "3.0",
     "output_type": "error",
     "traceback": [
      "\u001b[0;31m---------------------------------------------------------------------------\u001b[0m",
      "\u001b[0;31mKeyError\u001b[0m                                  Traceback (most recent call last)",
      "\u001b[0;32m<ipython-input-138-490f0fc58c28>\u001b[0m in \u001b[0;36m<module>\u001b[0;34m()\u001b[0m\n\u001b[1;32m      1\u001b[0m \u001b[0;32mimport\u001b[0m \u001b[0mpandas\u001b[0m \u001b[0;32mas\u001b[0m \u001b[0mpd\u001b[0m\u001b[0;34m\u001b[0m\u001b[0m\n\u001b[1;32m      2\u001b[0m \u001b[0mala\u001b[0m \u001b[0;34m=\u001b[0m \u001b[0mpd\u001b[0m\u001b[0;34m.\u001b[0m\u001b[0mSeries\u001b[0m\u001b[0;34m(\u001b[0m\u001b[0mlengths_train\u001b[0m\u001b[0;34m)\u001b[0m\u001b[0;34m\u001b[0m\u001b[0m\n\u001b[0;32m----> 3\u001b[0;31m \u001b[0mala\u001b[0m\u001b[0;34m.\u001b[0m\u001b[0mvalue_counts\u001b[0m\u001b[0;34m(\u001b[0m\u001b[0;34m)\u001b[0m\u001b[0;34m[\u001b[0m\u001b[0;36m3.0\u001b[0m\u001b[0;34m]\u001b[0m\u001b[0;34m\u001b[0m\u001b[0m\n\u001b[0m",
      "\u001b[0;32m/home/juillermo/anaconda2/lib/python2.7/site-packages/pandas/core/series.pyc\u001b[0m in \u001b[0;36m__getitem__\u001b[0;34m(self, key)\u001b[0m\n\u001b[1;32m    621\u001b[0m         \u001b[0mkey\u001b[0m \u001b[0;34m=\u001b[0m \u001b[0mcom\u001b[0m\u001b[0;34m.\u001b[0m\u001b[0m_apply_if_callable\u001b[0m\u001b[0;34m(\u001b[0m\u001b[0mkey\u001b[0m\u001b[0;34m,\u001b[0m \u001b[0mself\u001b[0m\u001b[0;34m)\u001b[0m\u001b[0;34m\u001b[0m\u001b[0m\n\u001b[1;32m    622\u001b[0m         \u001b[0;32mtry\u001b[0m\u001b[0;34m:\u001b[0m\u001b[0;34m\u001b[0m\u001b[0m\n\u001b[0;32m--> 623\u001b[0;31m             \u001b[0mresult\u001b[0m \u001b[0;34m=\u001b[0m \u001b[0mself\u001b[0m\u001b[0;34m.\u001b[0m\u001b[0mindex\u001b[0m\u001b[0;34m.\u001b[0m\u001b[0mget_value\u001b[0m\u001b[0;34m(\u001b[0m\u001b[0mself\u001b[0m\u001b[0;34m,\u001b[0m \u001b[0mkey\u001b[0m\u001b[0;34m)\u001b[0m\u001b[0;34m\u001b[0m\u001b[0m\n\u001b[0m\u001b[1;32m    624\u001b[0m \u001b[0;34m\u001b[0m\u001b[0m\n\u001b[1;32m    625\u001b[0m             \u001b[0;32mif\u001b[0m \u001b[0;32mnot\u001b[0m \u001b[0mis_scalar\u001b[0m\u001b[0;34m(\u001b[0m\u001b[0mresult\u001b[0m\u001b[0;34m)\u001b[0m\u001b[0;34m:\u001b[0m\u001b[0;34m\u001b[0m\u001b[0m\n",
      "\u001b[0;32m/home/juillermo/anaconda2/lib/python2.7/site-packages/pandas/core/indexes/numeric.pyc\u001b[0m in \u001b[0;36mget_value\u001b[0;34m(self, series, key)\u001b[0m\n\u001b[1;32m    343\u001b[0m \u001b[0;34m\u001b[0m\u001b[0m\n\u001b[1;32m    344\u001b[0m         \u001b[0mk\u001b[0m \u001b[0;34m=\u001b[0m \u001b[0m_values_from_object\u001b[0m\u001b[0;34m(\u001b[0m\u001b[0mkey\u001b[0m\u001b[0;34m)\u001b[0m\u001b[0;34m\u001b[0m\u001b[0m\n\u001b[0;32m--> 345\u001b[0;31m         \u001b[0mloc\u001b[0m \u001b[0;34m=\u001b[0m \u001b[0mself\u001b[0m\u001b[0;34m.\u001b[0m\u001b[0mget_loc\u001b[0m\u001b[0;34m(\u001b[0m\u001b[0mk\u001b[0m\u001b[0;34m)\u001b[0m\u001b[0;34m\u001b[0m\u001b[0m\n\u001b[0m\u001b[1;32m    346\u001b[0m         \u001b[0mnew_values\u001b[0m \u001b[0;34m=\u001b[0m \u001b[0m_values_from_object\u001b[0m\u001b[0;34m(\u001b[0m\u001b[0mseries\u001b[0m\u001b[0;34m)\u001b[0m\u001b[0;34m[\u001b[0m\u001b[0mloc\u001b[0m\u001b[0;34m]\u001b[0m\u001b[0;34m\u001b[0m\u001b[0m\n\u001b[1;32m    347\u001b[0m \u001b[0;34m\u001b[0m\u001b[0m\n",
      "\u001b[0;32m/home/juillermo/anaconda2/lib/python2.7/site-packages/pandas/core/indexes/numeric.pyc\u001b[0m in \u001b[0;36mget_loc\u001b[0;34m(self, key, method, tolerance)\u001b[0m\n\u001b[1;32m    402\u001b[0m             \u001b[0;32mpass\u001b[0m\u001b[0;34m\u001b[0m\u001b[0m\n\u001b[1;32m    403\u001b[0m         return super(Float64Index, self).get_loc(key, method=method,\n\u001b[0;32m--> 404\u001b[0;31m                                                  tolerance=tolerance)\n\u001b[0m\u001b[1;32m    405\u001b[0m \u001b[0;34m\u001b[0m\u001b[0m\n\u001b[1;32m    406\u001b[0m     \u001b[0;34m@\u001b[0m\u001b[0mcache_readonly\u001b[0m\u001b[0;34m\u001b[0m\u001b[0m\n",
      "\u001b[0;32m/home/juillermo/anaconda2/lib/python2.7/site-packages/pandas/core/indexes/base.pyc\u001b[0m in \u001b[0;36mget_loc\u001b[0;34m(self, key, method, tolerance)\u001b[0m\n\u001b[1;32m   2525\u001b[0m                 \u001b[0;32mreturn\u001b[0m \u001b[0mself\u001b[0m\u001b[0;34m.\u001b[0m\u001b[0m_engine\u001b[0m\u001b[0;34m.\u001b[0m\u001b[0mget_loc\u001b[0m\u001b[0;34m(\u001b[0m\u001b[0mkey\u001b[0m\u001b[0;34m)\u001b[0m\u001b[0;34m\u001b[0m\u001b[0m\n\u001b[1;32m   2526\u001b[0m             \u001b[0;32mexcept\u001b[0m \u001b[0mKeyError\u001b[0m\u001b[0;34m:\u001b[0m\u001b[0;34m\u001b[0m\u001b[0m\n\u001b[0;32m-> 2527\u001b[0;31m                 \u001b[0;32mreturn\u001b[0m \u001b[0mself\u001b[0m\u001b[0;34m.\u001b[0m\u001b[0m_engine\u001b[0m\u001b[0;34m.\u001b[0m\u001b[0mget_loc\u001b[0m\u001b[0;34m(\u001b[0m\u001b[0mself\u001b[0m\u001b[0;34m.\u001b[0m\u001b[0m_maybe_cast_indexer\u001b[0m\u001b[0;34m(\u001b[0m\u001b[0mkey\u001b[0m\u001b[0;34m)\u001b[0m\u001b[0;34m)\u001b[0m\u001b[0;34m\u001b[0m\u001b[0m\n\u001b[0m\u001b[1;32m   2528\u001b[0m \u001b[0;34m\u001b[0m\u001b[0m\n\u001b[1;32m   2529\u001b[0m         \u001b[0mindexer\u001b[0m \u001b[0;34m=\u001b[0m \u001b[0mself\u001b[0m\u001b[0;34m.\u001b[0m\u001b[0mget_indexer\u001b[0m\u001b[0;34m(\u001b[0m\u001b[0;34m[\u001b[0m\u001b[0mkey\u001b[0m\u001b[0;34m]\u001b[0m\u001b[0;34m,\u001b[0m \u001b[0mmethod\u001b[0m\u001b[0;34m=\u001b[0m\u001b[0mmethod\u001b[0m\u001b[0;34m,\u001b[0m \u001b[0mtolerance\u001b[0m\u001b[0;34m=\u001b[0m\u001b[0mtolerance\u001b[0m\u001b[0;34m)\u001b[0m\u001b[0;34m\u001b[0m\u001b[0m\n",
      "\u001b[0;32mpandas/_libs/index.pyx\u001b[0m in \u001b[0;36mpandas._libs.index.IndexEngine.get_loc\u001b[0;34m()\u001b[0m\n",
      "\u001b[0;32mpandas/_libs/index.pyx\u001b[0m in \u001b[0;36mpandas._libs.index.IndexEngine.get_loc\u001b[0;34m()\u001b[0m\n",
      "\u001b[0;32mpandas/_libs/hashtable_class_helper.pxi\u001b[0m in \u001b[0;36mpandas._libs.hashtable.Float64HashTable.get_item\u001b[0;34m()\u001b[0m\n",
      "\u001b[0;32mpandas/_libs/hashtable_class_helper.pxi\u001b[0m in \u001b[0;36mpandas._libs.hashtable.Float64HashTable.get_item\u001b[0;34m()\u001b[0m\n",
      "\u001b[0;31mKeyError\u001b[0m: 3.0"
     ]
    }
   ],
   "source": [
    "lengths = pd.Series(lengths_train)\n",
    "lengths.value_counts()[3.0]"
   ]
  },
  {
   "cell_type": "markdown",
   "metadata": {},
   "source": [
    "### Spot best predictors"
   ]
  },
  {
   "cell_type": "code",
   "execution_count": null,
   "metadata": {
    "collapsed": true
   },
   "outputs": [],
   "source": [
    "for target_class in range(8):\n",
    "    print \"Class \", ssConvertMap[target_class]\n",
    "\n",
    "    max_target = np.argmax( predictions[:, :, target_class] )\n",
    "    max_target = np.unravel_index( max_target, predictions.shape[0:2] )\n",
    "    seq = max_target[0]\n",
    "    pos = max_target[1]\n",
    "    \n",
    "    print \"max_target\", max_target\n",
    "    print \"value: \", predictions[seq, pos, target_class]\n",
    "\n",
    "    if pos >= window:\n",
    "        init = pos - window\n",
    "    else:\n",
    "        init = 0\n",
    "    end = pos + window + 1\n",
    "    \n",
    "    gato = decode( X_am[seq] )\n",
    "    print \"Aminoacids \", gato[ init:pos ], gato[ pos ], gato[ pos+1:end ]\n",
    "    perro = convertPredictQ8Result2HumanReadable( predictions[seq] )\n",
    "    print \"Predictions\", perro[init:pos], perro[pos], perro[pos+1:end]\n",
    "    conejo = \"\".join([ssConvertMap[el] for el in labels[seq]])\n",
    "    print \"True labels\", conejo[init:pos], conejo[pos], conejo[pos+1:end], \"\\n\""
   ]
  },
  {
   "cell_type": "markdown",
   "metadata": {},
   "source": [
    "------------------------------------------------\n",
    "\n",
    "## Analyze sequence predictions"
   ]
  },
  {
   "cell_type": "code",
   "execution_count": null,
   "metadata": {
    "collapsed": true
   },
   "outputs": [],
   "source": [
    "def calculate_seq_accuracy(predictions, labels):\n",
    "    num_seq = len(mask)\n",
    "    seq_len = predictions.shape[1]\n",
    "\n",
    "    tot_acc = 0\n",
    "    seq_acc = np.zeros(num_seq)\n",
    "    for seq in range(num_seq):\n",
    "        for pos in range(seq_len):\n",
    "            if mask[seq,pos]:\n",
    "                if labels[seq, pos] == np.argmax(predictions[seq, pos]):\n",
    "                    seq_acc[seq] += 1\n",
    "                    tot_acc +=1\n",
    "            else:\n",
    "                break\n",
    "\n",
    "        seq_acc[seq] /= np.sum(mask[seq])\n",
    "    \n",
    "    print tot_acc / np.sum(mask)\n",
    "    return seq_acc\n",
    "\n",
    "seq_acc = calculate_seq_accuracy(predictions, labels)\n",
    "seq_acc_train = seq_acc[:split_value]\n",
    "seq_acc_test = seq_acc[split_value:]\n",
    "\n",
    "lengths_train = np.sum(mask[:split_value], axis=1)\n",
    "lengths_test = np.sum(mask[split_value:], axis=1)\n",
    "print len(lengths_train[lengths_train > 300])\n",
    "print len(lengths_test[lengths_test > 300])"
   ]
  },
  {
   "cell_type": "markdown",
   "metadata": {},
   "source": [
    "### Per-sequence accuracy plots"
   ]
  },
  {
   "cell_type": "code",
   "execution_count": 1,
   "metadata": {
    "collapsed": false
   },
   "outputs": [
    {
     "ename": "NameError",
     "evalue": "name 'plt' is not defined",
     "output_type": "error",
     "traceback": [
      "\u001b[0;31m---------------------------------------------------------------------------\u001b[0m",
      "\u001b[0;31mNameError\u001b[0m                                 Traceback (most recent call last)",
      "\u001b[0;32m<ipython-input-1-553359ec7d75>\u001b[0m in \u001b[0;36m<module>\u001b[0;34m()\u001b[0m\n\u001b[1;32m      3\u001b[0m     \u001b[0max\u001b[0m\u001b[0;34m.\u001b[0m\u001b[0mset\u001b[0m\u001b[0;34m(\u001b[0m\u001b[0mtitle\u001b[0m\u001b[0;34m=\u001b[0m\u001b[0;34m'Per-sequence accuracy ('\u001b[0m\u001b[0;34m+\u001b[0m\u001b[0mlabel\u001b[0m\u001b[0;34m+\u001b[0m\u001b[0;34m')'\u001b[0m\u001b[0;34m,\u001b[0m \u001b[0mylim\u001b[0m\u001b[0;34m=\u001b[0m\u001b[0;34m[\u001b[0m\u001b[0;36m0\u001b[0m\u001b[0;34m,\u001b[0m \u001b[0;36m1\u001b[0m\u001b[0;34m]\u001b[0m\u001b[0;34m)\u001b[0m\u001b[0;34m\u001b[0m\u001b[0m\n\u001b[1;32m      4\u001b[0m \u001b[0;34m\u001b[0m\u001b[0m\n\u001b[0;32m----> 5\u001b[0;31m \u001b[0mfig\u001b[0m\u001b[0;34m,\u001b[0m\u001b[0max\u001b[0m \u001b[0;34m=\u001b[0m \u001b[0mplt\u001b[0m\u001b[0;34m.\u001b[0m\u001b[0msubplots\u001b[0m\u001b[0;34m(\u001b[0m\u001b[0;36m2\u001b[0m\u001b[0;34m,\u001b[0m\u001b[0;36m2\u001b[0m\u001b[0;34m,\u001b[0m \u001b[0mfigsize\u001b[0m\u001b[0;34m=\u001b[0m\u001b[0;34m(\u001b[0m\u001b[0;36m15\u001b[0m\u001b[0;34m,\u001b[0m\u001b[0;36m7\u001b[0m\u001b[0;34m)\u001b[0m\u001b[0;34m)\u001b[0m\u001b[0;34m\u001b[0m\u001b[0m\n\u001b[0m\u001b[1;32m      6\u001b[0m \u001b[0;34m\u001b[0m\u001b[0m\n\u001b[1;32m      7\u001b[0m \u001b[0mprint_sorted_seqs\u001b[0m\u001b[0;34m(\u001b[0m\u001b[0mseq_acc_train\u001b[0m\u001b[0;34m,\u001b[0m \u001b[0max\u001b[0m\u001b[0;34m[\u001b[0m\u001b[0;36m0\u001b[0m\u001b[0;34m]\u001b[0m\u001b[0;34m[\u001b[0m\u001b[0;36m0\u001b[0m\u001b[0;34m]\u001b[0m\u001b[0;34m,\u001b[0m \u001b[0;34m\"train\"\u001b[0m\u001b[0;34m)\u001b[0m\u001b[0;34m\u001b[0m\u001b[0m\n",
      "\u001b[0;31mNameError\u001b[0m: name 'plt' is not defined"
     ]
    }
   ],
   "source": [
    "def print_sorted_seqs(seqs, ax, label):\n",
    "    ax.plot(sorted(seqs), marker=\"X\", linewidth=0)\n",
    "    ax.set(title='Per-sequence accuracy ('+label+')', ylim=[0, 1])\n",
    "\n",
    "fig,ax = plt.subplots(2,2, figsize=(15,7))\n",
    "\n",
    "print_sorted_seqs(seq_acc_train, ax[0][0], \"train\")\n",
    "print_sorted_seqs(seq_acc_test, ax[0][1], \"test\")\n",
    "\n",
    "print_sorted_seqs(seq_acc_train[lengths_train > 300], ax[1][0], 'train > 300')\n",
    "print_sorted_seqs(seq_acc_test[lengths_test > 300], ax[1][1], 'test > 300')"
   ]
  },
  {
   "cell_type": "markdown",
   "metadata": {},
   "source": [
    "### Accuracy-size plots"
   ]
  },
  {
   "cell_type": "code",
   "execution_count": null,
   "metadata": {
    "collapsed": true
   },
   "outputs": [],
   "source": [
    "def print_length_vs_acc(lengths, seqs, ax, label):\n",
    "    seq_len = 700\n",
    "    \n",
    "    ax.plot(lengths, seqs, marker=\"X\", linewidth=0, label=\"sequences\")\n",
    "    ax.plot(np.mean(seqs)*np.ones(seq_len), label=\"mean\")\n",
    "    ax.set(title='Per-sequence accuracy ('+label+'), mean: {:.2f}'.format(np.mean(seqs)),\n",
    "           ylabel=\"accuracy\", xlabel=\"sequence length\", ylim=[0, 1])\n",
    "    ax.legend()\n",
    "\n",
    "fig,ax = plt.subplots(2,2, figsize=(20,10))\n",
    "\n",
    "print_length_vs_acc(lengths_train, seq_acc_train, ax[0][0], 'train')\n",
    "print_length_vs_acc(lengths_test, seq_acc_test, ax[0][1], 'test')\n",
    "\n",
    "print_length_vs_acc(lengths_train[lengths_train > 300], seq_acc_train[lengths_train > 300], ax[1][0], 'train')\n",
    "print_length_vs_acc(lengths_test[lengths_test > 300], seq_acc_test[lengths_test > 300], ax[1][1], 'test')"
   ]
  }
 ],
 "metadata": {
  "kernelspec": {
   "display_name": "Python 2",
   "language": "python",
   "name": "python2"
  },
  "language_info": {
   "codemirror_mode": {
    "name": "ipython",
    "version": 2
   },
   "file_extension": ".py",
   "mimetype": "text/x-python",
   "name": "python",
   "nbconvert_exporter": "python",
   "pygments_lexer": "ipython2",
   "version": "2.7.13"
  }
 },
 "nbformat": 4,
 "nbformat_minor": 2
}
