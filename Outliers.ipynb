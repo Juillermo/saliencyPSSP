{
 "cells": [
  {
   "cell_type": "markdown",
   "metadata": {},
   "source": [
    "### Spot best predictors"
   ]
  },
  {
   "cell_type": "code",
   "execution_count": null,
   "metadata": {
    "collapsed": true
   },
   "outputs": [],
   "source": [
    "for target_class in range(8):\n",
    "    print \"Class \", ssConvertMap[target_class]\n",
    "\n",
    "    max_target = np.argmax( predictions[:, :, target_class] )\n",
    "    max_target = np.unravel_index( max_target, predictions.shape[0:2] )\n",
    "    seq = max_target[0]\n",
    "    pos = max_target[1]\n",
    "    \n",
    "    print \"max_target\", max_target\n",
    "    print \"value: \", predictions[seq, pos, target_class]\n",
    "\n",
    "    if pos >= window:\n",
    "        init = pos - window\n",
    "    else:\n",
    "        init = 0\n",
    "    end = pos + window + 1\n",
    "    \n",
    "    gato = decode( X_am[seq] )\n",
    "    print \"Aminoacids \", gato[ init:pos ], gato[ pos ], gato[ pos+1:end ]\n",
    "    perro = convertPredictQ8Result2HumanReadable( predictions[seq] )\n",
    "    print \"Predictions\", perro[init:pos], perro[pos], perro[pos+1:end]\n",
    "    conejo = \"\".join([ssConvertMap[el] for el in labels[seq]])\n",
    "    print \"True labels\", conejo[init:pos], conejo[pos], conejo[pos+1:end], \"\\n\""
   ]
  },
  {
   "cell_type": "markdown",
   "metadata": {},
   "source": [
    "------------------------------------------------\n",
    "\n",
    "## Analyze sequence predictions"
   ]
  },
  {
   "cell_type": "code",
   "execution_count": null,
   "metadata": {
    "collapsed": true
   },
   "outputs": [],
   "source": [
    "def calculate_seq_accuracy(predictions, labels):\n",
    "    num_seq = len(mask)\n",
    "    seq_len = predictions.shape[1]\n",
    "\n",
    "    tot_acc = 0\n",
    "    seq_acc = np.zeros(num_seq)\n",
    "    for seq in range(num_seq):\n",
    "        for pos in range(seq_len):\n",
    "            if mask[seq,pos]:\n",
    "                if labels[seq, pos] == np.argmax(predictions[seq, pos]):\n",
    "                    seq_acc[seq] += 1\n",
    "                    tot_acc +=1\n",
    "            else:\n",
    "                break\n",
    "\n",
    "        seq_acc[seq] /= np.sum(mask[seq])\n",
    "    \n",
    "    print tot_acc / np.sum(mask)\n",
    "    return seq_acc\n",
    "\n",
    "seq_acc = calculate_seq_accuracy(predictions, labels)\n",
    "seq_acc_train = seq_acc[:split_value]\n",
    "seq_acc_test = seq_acc[split_value:]\n",
    "\n",
    "lengths_train = np.sum(mask[:split_value], axis=1)\n",
    "lengths_test = np.sum(mask[split_value:], axis=1)\n",
    "print len(lengths_train[lengths_train > 300])\n",
    "print len(lengths_test[lengths_test > 300])"
   ]
  },
  {
   "cell_type": "markdown",
   "metadata": {},
   "source": [
    "### Per-sequence accuracy plots"
   ]
  },
  {
   "cell_type": "code",
   "execution_count": 1,
   "metadata": {
    "collapsed": false
   },
   "outputs": [
    {
     "ename": "NameError",
     "evalue": "name 'plt' is not defined",
     "output_type": "error",
     "traceback": [
      "\u001b[0;31m---------------------------------------------------------------------------\u001b[0m",
      "\u001b[0;31mNameError\u001b[0m                                 Traceback (most recent call last)",
      "\u001b[0;32m<ipython-input-1-553359ec7d75>\u001b[0m in \u001b[0;36m<module>\u001b[0;34m()\u001b[0m\n\u001b[1;32m      3\u001b[0m     \u001b[0max\u001b[0m\u001b[0;34m.\u001b[0m\u001b[0mset\u001b[0m\u001b[0;34m(\u001b[0m\u001b[0mtitle\u001b[0m\u001b[0;34m=\u001b[0m\u001b[0;34m'Per-sequence accuracy ('\u001b[0m\u001b[0;34m+\u001b[0m\u001b[0mlabel\u001b[0m\u001b[0;34m+\u001b[0m\u001b[0;34m')'\u001b[0m\u001b[0;34m,\u001b[0m \u001b[0mylim\u001b[0m\u001b[0;34m=\u001b[0m\u001b[0;34m[\u001b[0m\u001b[0;36m0\u001b[0m\u001b[0;34m,\u001b[0m \u001b[0;36m1\u001b[0m\u001b[0;34m]\u001b[0m\u001b[0;34m)\u001b[0m\u001b[0;34m\u001b[0m\u001b[0m\n\u001b[1;32m      4\u001b[0m \u001b[0;34m\u001b[0m\u001b[0m\n\u001b[0;32m----> 5\u001b[0;31m \u001b[0mfig\u001b[0m\u001b[0;34m,\u001b[0m\u001b[0max\u001b[0m \u001b[0;34m=\u001b[0m \u001b[0mplt\u001b[0m\u001b[0;34m.\u001b[0m\u001b[0msubplots\u001b[0m\u001b[0;34m(\u001b[0m\u001b[0;36m2\u001b[0m\u001b[0;34m,\u001b[0m\u001b[0;36m2\u001b[0m\u001b[0;34m,\u001b[0m \u001b[0mfigsize\u001b[0m\u001b[0;34m=\u001b[0m\u001b[0;34m(\u001b[0m\u001b[0;36m15\u001b[0m\u001b[0;34m,\u001b[0m\u001b[0;36m7\u001b[0m\u001b[0;34m)\u001b[0m\u001b[0;34m)\u001b[0m\u001b[0;34m\u001b[0m\u001b[0m\n\u001b[0m\u001b[1;32m      6\u001b[0m \u001b[0;34m\u001b[0m\u001b[0m\n\u001b[1;32m      7\u001b[0m \u001b[0mprint_sorted_seqs\u001b[0m\u001b[0;34m(\u001b[0m\u001b[0mseq_acc_train\u001b[0m\u001b[0;34m,\u001b[0m \u001b[0max\u001b[0m\u001b[0;34m[\u001b[0m\u001b[0;36m0\u001b[0m\u001b[0;34m]\u001b[0m\u001b[0;34m[\u001b[0m\u001b[0;36m0\u001b[0m\u001b[0;34m]\u001b[0m\u001b[0;34m,\u001b[0m \u001b[0;34m\"train\"\u001b[0m\u001b[0;34m)\u001b[0m\u001b[0;34m\u001b[0m\u001b[0m\n",
      "\u001b[0;31mNameError\u001b[0m: name 'plt' is not defined"
     ]
    }
   ],
   "source": [
    "def print_sorted_seqs(seqs, ax, label):\n",
    "    ax.plot(sorted(seqs), marker=\"X\", linewidth=0)\n",
    "    ax.set(title='Per-sequence accuracy ('+label+')', ylim=[0, 1])\n",
    "\n",
    "fig,ax = plt.subplots(2,2, figsize=(15,7))\n",
    "\n",
    "print_sorted_seqs(seq_acc_train, ax[0][0], \"train\")\n",
    "print_sorted_seqs(seq_acc_test, ax[0][1], \"test\")\n",
    "\n",
    "print_sorted_seqs(seq_acc_train[lengths_train > 300], ax[1][0], 'train > 300')\n",
    "print_sorted_seqs(seq_acc_test[lengths_test > 300], ax[1][1], 'test > 300')"
   ]
  },
  {
   "cell_type": "markdown",
   "metadata": {},
   "source": [
    "### Accuracy-size plots"
   ]
  },
  {
   "cell_type": "code",
   "execution_count": null,
   "metadata": {
    "collapsed": true
   },
   "outputs": [],
   "source": [
    "def print_length_vs_acc(lengths, seqs, ax, label):\n",
    "    seq_len = 700\n",
    "    \n",
    "    ax.plot(lengths, seqs, marker=\"X\", linewidth=0, label=\"sequences\")\n",
    "    ax.plot(np.mean(seqs)*np.ones(seq_len), label=\"mean\")\n",
    "    ax.set(title='Per-sequence accuracy ('+label+'), mean: {:.2f}'.format(np.mean(seqs)),\n",
    "           ylabel=\"accuracy\", xlabel=\"sequence length\", ylim=[0, 1])\n",
    "    ax.legend()\n",
    "\n",
    "fig,ax = plt.subplots(2,2, figsize=(20,10))\n",
    "\n",
    "print_length_vs_acc(lengths_train, seq_acc_train, ax[0][0], 'train')\n",
    "print_length_vs_acc(lengths_test, seq_acc_test, ax[0][1], 'test')\n",
    "\n",
    "print_length_vs_acc(lengths_train[lengths_train > 300], seq_acc_train[lengths_train > 300], ax[1][0], 'train')\n",
    "print_length_vs_acc(lengths_test[lengths_test > 300], seq_acc_test[lengths_test > 300], ax[1][1], 'test')"
   ]
  }
 ],
 "metadata": {
  "kernelspec": {
   "display_name": "Python 2",
   "language": "python",
   "name": "python2"
  },
  "language_info": {
   "codemirror_mode": {
    "name": "ipython",
    "version": 2
   },
   "file_extension": ".py",
   "mimetype": "text/x-python",
   "name": "python",
   "nbconvert_exporter": "python",
   "pygments_lexer": "ipython2",
   "version": "2.7.13"
  }
 },
 "nbformat": 4,
 "nbformat_minor": 2
}
