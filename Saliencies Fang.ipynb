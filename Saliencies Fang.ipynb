{
 "cells": [
  {
   "cell_type": "markdown",
   "metadata": {},
   "source": [
    "### Loading data"
   ]
  },
  {
   "cell_type": "code",
   "execution_count": null,
   "metadata": {
    "collapsed": true
   },
   "outputs": [],
   "source": [
    "num_seqs = 0#4\n",
    "X_am, X_pssm, mask, labels = load_data(\"test_saliency/\", num_seqs)\n",
    "split_value = 5534\n",
    "print X_am.shape"
   ]
  },
  {
   "cell_type": "code",
   "execution_count": null,
   "metadata": {
    "collapsed": true
   },
   "outputs": [],
   "source": [
    "with open(\"test_saliency/predictions.pkl\", 'rb') as f:\n",
    "    predictions = pickle.load(f)\n",
    "print predictions.shape"
   ]
  },
  {
   "cell_type": "markdown",
   "metadata": {},
   "source": [
    "**Check aminoacids coding**"
   ]
  },
  {
   "cell_type": "code",
   "execution_count": null,
   "metadata": {
    "collapsed": true
   },
   "outputs": [],
   "source": [
    "sorted_fang = sorted(aaMap_fang.keys(), key=lambda letter: aaMap_fang[letter])\n",
    "\n",
    "aaMap = ['A', 'C', 'E', 'D', 'G', 'F', 'I', 'H', 'K', 'M', 'L', 'N', 'Q', 'P', 'S', 'R', 'T', 'W', 'V', 'Y', 'X']\n",
    "pssm = 'ACDEFGHIKLMNPQRSTVWXY'\n",
    "aaMap_jurtz = {amino: i for i, amino in enumerate(aaMap)}\n",
    "pssm_jurtz = {amino: i for i, amino in enumerate(pssm)}\n",
    "\n",
    "index_am = np.array([aaMap_jurtz[letter] for letter in sorted_fang if letter is not 'NoSeq'])\n",
    "index_pssm = np.array([pssm_jurtz[letter] for letter in sorted_fang if letter is not 'NoSeq'])\n",
    "\n",
    "#aaMap_fang['X']\n",
    "print len(aaMap)\n",
    "print len(index_am), len(index_pssm)\n",
    "print index_am"
   ]
  },
  {
   "cell_type": "code",
   "execution_count": null,
   "metadata": {
    "collapsed": true
   },
   "outputs": [],
   "source": [
    "seq = 3\n",
    "pos = 0\n",
    "\n",
    "print X_am[seq,pos]\n",
    "print len(X_am[seq,pos])\n",
    "\n",
    "dc = decode(X_am[seq,:end])\n",
    "print len(dc)\n",
    "print dc[pos]\n",
    "print dc"
   ]
  },
  {
   "cell_type": "markdown",
   "metadata": {},
   "source": [
    "### Evaluate saliencies"
   ]
  },
  {
   "cell_type": "markdown",
   "metadata": {},
   "source": [
    "**Aggregate saliencies**"
   ]
  },
  {
   "cell_type": "code",
   "execution_count": null,
   "metadata": {
    "collapsed": true
   },
   "outputs": [],
   "source": [
    "target_class = \"H\"\n",
    "num_seqs = 4\n",
    "saliencies = np.zeros((2,700,num_seqs,700,21))\n",
    "for seq in range(num_seqs):\n",
    "    with open(\"test_saliency/saliencies/saliencies\"+str(seq)+target_class+\".pkl\", \"rb\") as f:\n",
    "        temp = np.array(pickle.load(f))\n",
    "        saliencies[:,:,seq,:,:] = temp[:,:,0,:,:]\n",
    "print(\"Saliencies shape\", saliencies.shape)"
   ]
  },
  {
   "cell_type": "markdown",
   "metadata": {},
   "source": [
    "**Inspect sequential saliency**"
   ]
  },
  {
   "cell_type": "code",
   "execution_count": null,
   "metadata": {
    "collapsed": true
   },
   "outputs": [],
   "source": [
    "seq = 0\n",
    "final_pos = 110\n",
    "window = 29\n",
    "ini = 80\n",
    "\n",
    "end = final_pos + window + 1\n",
    "end_seq = int(sum(mask[seq]))\n",
    "if end > end_seq:\n",
    "    end = end_seq\n",
    "if final_pos > end_seq:\n",
    "    final_pos = end_seq\n",
    "\n",
    "preds = convertPredictQ8Result2HumanReadable( predictions[seq] )\n",
    "    \n",
    "fig, ax = plt.subplots(figsize=(15,3))\n",
    "for pos in range(final_pos):\n",
    "    if preds[pos] == 'H':\n",
    "    #if ssConvertMap[labels[seq,pos]] == 'H':        \n",
    "        temp = np.einsum('ij,ij->i', abs(saliencies[0,pos,seq,ini:end,:]), X_am[seq,ini:end])\n",
    "        temp += np.einsum('ij,ij->i', abs(saliencies[1,pos,seq,ini:end,:]), X_pssm[seq,ini:end])\n",
    "        ax.plot(temp, marker='.', label=str(pos))\n",
    "        #ax.plot(np.sum(np.sum(abs(saliencies[:,pos,seq,:end,:]), axis=2), axis=0), marker='.') # Aminoacid importance\n",
    "\n",
    "ax.xaxis.set(ticks=range(end), ticklabels=[preds[ini+i]+\"\\n\"+ssConvertMap[el]+\"\\n\"+str(ini+i) for i, el in enumerate(labels[seq,ini:end])])\n",
    "ax.margins(0)\n",
    "ax.legend()\n",
    "ax2 = ax.twiny()\n",
    "ax2.xaxis.set(ticks=range(end-ini), ticklabels=decode(X_am[seq,ini:end]))\n",
    "\"\""
   ]
  },
  {
   "cell_type": "markdown",
   "metadata": {},
   "source": [
    "**Gradient computation drafts**"
   ]
  },
  {
   "cell_type": "code",
   "execution_count": null,
   "metadata": {
    "collapsed": true
   },
   "outputs": [],
   "source": [
    "#weights = model.trainable_weights # weight tensors\n",
    "gradients = theano.gradient.grad(model.outputs[0][seq,pos,7], wrt=[model.inputs[0], model.inputs[1]])\n",
    "gradients = theano.gradient.jacobian(model.outputs[0][seq,pos,5].flatten(), wrt=[model.inputs[0], model.inputs[1]])\n",
    "#gradients = K.gradients(model.predict, model.inputs)\n",
    "#gradients = K.gradients(model.total_loss, model.inputs) # gradient tensors\n",
    "#input_tensors = model.inputs + model.sample_weights + model.targets + [K.learning_phase()]\n",
    "#get_gradients = K.function(inputs=input_tensors, outputs=gradients)"
   ]
  },
  {
   "cell_type": "code",
   "execution_count": null,
   "metadata": {
    "collapsed": true
   },
   "outputs": [],
   "source": [
    "get_gradients = K.function(inputs=[model.inputs[0], model.inputs[1], K.learning_phase()], outputs=gradients)"
   ]
  },
  {
   "cell_type": "code",
   "execution_count": null,
   "metadata": {
    "collapsed": true
   },
   "outputs": [],
   "source": [
    "inputs = [X_test_am[seq,...], X_test_pssm[seq,...], 0]\n",
    "inputs = [inputs[0][None,...], inputs[1][None,...], inputs[2]]\n",
    "grads = get_gradients(inputs)\n",
    "grads = np.array(grads)"
   ]
  }
 ],
 "metadata": {
  "kernelspec": {
   "display_name": "Python 2",
   "language": "python",
   "name": "python2"
  },
  "language_info": {
   "codemirror_mode": {
    "name": "ipython",
    "version": 2
   },
   "file_extension": ".py",
   "mimetype": "text/x-python",
   "name": "python",
   "nbconvert_exporter": "python",
   "pygments_lexer": "ipython2",
   "version": "2.7.13"
  }
 },
 "nbformat": 4,
 "nbformat_minor": 2
}
