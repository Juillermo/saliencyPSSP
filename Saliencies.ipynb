{
 "cells": [
  {
   "cell_type": "code",
   "execution_count": null,
   "metadata": {
    "collapsed": true
   },
   "outputs": [],
   "source": [
    "from secondary_proteins_prediction import data\n",
    "\n",
    "TRAIN_PATH = 'secondary_proteins_prediction/data/cullpdb+profile_6133_filtered.npy.gz'\n",
    "TEST_PATH = 'secondary_proteins_prediction/data/cb513+profile_split1.npy.gz'\n",
    "\n",
    "X_train, X_valid, labels_train, labels_valid, mask_train, mask_valid, _ = data.get_train(TRAIN_PATH)\n",
    "X_test, mask_test, labels_test, _ = data.get_test(TEST_PATH)\n",
    "print X_train[:-30].shape, X_valid.shape, X_test[:-126].shape\n",
    "split_value = len(X_train[:-30]) + len(X_valid)\n",
    "print split_value\n",
    "\n",
    "X = np.concatenate((X_train[:-30],X_valid, X_test[:-126]))\n",
    "labels = np.concatenate((labels_train[:-30],labels_valid, labels_test[:-126]))\n",
    "mask = np.concatenate((mask_train[:-30],mask_valid, mask_test[:-126]))\n",
    "print X.shape"
   ]
  }
 ],
 "metadata": {
  "kernelspec": {
   "display_name": "Python 2",
   "language": "python",
   "name": "python2"
  },
  "language_info": {
   "codemirror_mode": {
    "name": "ipython",
    "version": 2
   },
   "file_extension": ".py",
   "mimetype": "text/x-python",
   "name": "python",
   "nbconvert_exporter": "python",
   "pygments_lexer": "ipython2",
   "version": "2.7.13"
  }
 },
 "nbformat": 4,
 "nbformat_minor": 2
}
